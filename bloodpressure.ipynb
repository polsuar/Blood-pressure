{
  "nbformat": 4,
  "nbformat_minor": 0,
  "metadata": {
    "colab": {
      "name": "Coronita5.ipynb",
      "provenance": [],
      "collapsed_sections": []
    },
    "kernelspec": {
      "name": "python3",
      "display_name": "Python 3",
      "language": "python"
    }
  },
  "cells": [
    {
      "cell_type": "code",
      "metadata": {
        "id": "38u-UqvXZpWx"
      },
      "source": [
        "import numpy as np \n",
        "import matplotlib.pyplot as plt \n",
        "import pandas as pd \n",
        "plt.style.use('seaborn')\n",
        "%matplotlib inline"
      ],
      "execution_count": null,
      "outputs": []
    },
    {
      "cell_type": "markdown",
      "metadata": {
        "id": "4epsF3fAZ3zk"
      },
      "source": [
        "# Reading csv files"
      ]
    },
    {
      "cell_type": "code",
      "metadata": {
        "id": "1iQgcMdQZ2iS"
      },
      "source": [
        "raised_bp_df = pd.read_csv('C:\\#PoL\\Code\\#Python\\charting\\Week 4\\raisedpb.csv')"
      ],
      "execution_count": null,
      "outputs": []
    },
    {
      "cell_type": "code",
      "metadata": {
        "colab": {
          "base_uri": "https://localhost:8080/",
          "height": 253
        },
        "id": "F2Kb9eJDZ_o_",
        "outputId": "6fc6fab2-4b7a-408b-ee72-e5dedd72be3c"
      },
      "source": [
        "raised_bp_df.head()"
      ],
      "execution_count": null,
      "outputs": []
    },
    {
      "cell_type": "code",
      "metadata": {
        "id": "fHuG3olRaCI1"
      },
      "source": [
        "cols = confirmados_df.keys()"
      ],
      "execution_count": null,
      "outputs": []
    },
    {
      "cell_type": "markdown",
      "metadata": {
        "id": "W70gCwpZaE-5"
      },
      "source": [
        "Se obtienen todas las fechas con casos confirmados"
      ]
    },
    {
      "cell_type": "code",
      "metadata": {
        "colab": {
          "base_uri": "https://localhost:8080/"
        },
        "id": "m87JUw_RL9Ja",
        "outputId": "d2aa90a6-5d39-4115-ca09-6ec184e097f6"
      },
      "source": [
        "from datetime import date\r\n",
        "prim_dia = date(2020, 1, 22)\r\n",
        "ult_dia = date(2020, 11, 24)\r\n",
        "# ult_dia = date(int(input('Ingrese año:')),int(input('Ingrese mes:')),int(input('Ingrese día:')))\r\n",
        "rango = ult_dia - prim_dia\r\n",
        "dias = rango.days + 4"
      ],
      "execution_count": null,
      "outputs": []
    },
    {
      "cell_type": "code",
      "metadata": {
        "id": "mlRI8r0faHJp"
      },
      "source": [
        "#El método DataFrame.loc [] es un método de Pandas que solo toma etiquetas de índice y devuelve una fila o un dataframe(en este caso un df)\r\n",
        "confirmados = confirmados_df.loc[:, cols[4]:cols[dias]]"
      ],
      "execution_count": null,
      "outputs": []
    },
    {
      "cell_type": "code",
      "metadata": {
        "id": "EMjEw7praQxc",
        "colab": {
          "base_uri": "https://localhost:8080/"
        },
        "outputId": "6955cc45-dd12-4b72-f580-c9b9330bffb8"
      },
      "source": [
        "fechas = confirmados.keys()\n",
        "casos_brasil = []"
      ],
      "execution_count": null,
      "outputs": []
    },
    {
      "cell_type": "code",
      "metadata": {
        "id": "eH0pTWCYaeEz"
      },
      "source": [
        "for i in fechas:\n",
        "    confirmados_sum = confirmados[i].sum()\n",
        "    casos_brasil.append(confirmados_df[confirmados_df['Country/Region']=='Brazil'][i].sum())"
      ],
      "execution_count": null,
      "outputs": []
    },
    {
      "cell_type": "markdown",
      "metadata": {
        "id": "jfns0W8Kar13"
      },
      "source": [
        "Se obtiene el incremento diario\r\n",
        "\r\n"
      ]
    },
    {
      "cell_type": "code",
      "metadata": {
        "id": "i-ZxwDh7avCX"
      },
      "source": [
        "def incremento_diario(data):\n",
        "    d = [] \n",
        "    for i in range(len(data)):\n",
        "        if i == 0:\n",
        "            d.append(data[0])\n",
        "        else:\n",
        "            d.append(data[i]-data[i-1])\n",
        "    return d\n",
        "\n",
        "# casos confirmados\n",
        "brasil_incremento_diario = incremento_diario(casos_brasil)"
      ],
      "execution_count": null,
      "outputs": []
    },
    {
      "cell_type": "code",
      "metadata": {
        "id": "9S5Xfk8ka6Pm"
      },
      "source": [
        "dias_desde_1_22 = np.array([i for i in range(len(fechas))]).reshape(-1, 1)\n",
        "casos_brasil = np.array(casos_brasil).reshape(-1, 1)\n",
        "brasil_incremento_diario = np.array(brasil_incremento_diario).reshape(-1, 1)"
      ],
      "execution_count": null,
      "outputs": []
    },
    {
      "cell_type": "code",
      "metadata": {
        "id": "wNypncu2HwtC",
        "colab": {
          "base_uri": "https://localhost:8080/",
          "height": 662
        },
        "outputId": "cd8e17cb-c855-4672-a6cc-bfacf828650c"
      },
      "source": [
        "# Create scatter plot\n",
        "fig, ax = plt.subplots(figsize=(10,5)) #crea una figura\n",
        "\n",
        "for fecha, dia, in zip(fechas, brasil_incremento_diario):\n",
        "    x, y = fecha, dia\n",
        "    ax.scatter(x,y , alpha=0.8, edgecolors='none', s=30, color= 'r')\n",
        "plt.xticks(range(0, len(fechas), 30), rotation=45)\n",
        "plt.title('Casos de Coronavirus por día en Brasil')\n",
        "plt.ylabel(\"Casos\")\n",
        "plt.xlabel(\"Fecha\")\n",
        "ax.grid(False)\n",
        "plt.legend(loc=0) #localizaciones predeterminadas 0 es con el minimo overlap de los puntos\n",
        "plt.show()"
      ],
      "execution_count": null,
      "outputs": []
    },
    {
      "cell_type": "markdown",
      "metadata": {
        "id": "ifpIvVQTbHaX"
      },
      "source": [
        "\r\n",
        "Se convierten los enteros en \"datetime\" para mejor visualizacion\r\n",
        "\r\n",
        "---\r\n",
        "\r\n"
      ]
    },
    {
      "cell_type": "code",
      "metadata": {
        "id": "X1BvKWkmbILN"
      },
      "source": [
        "comienzo = '1/22/2020'\n",
        "comienzo_date = datetime.datetime.strptime(comienzo, '%m/%d/%Y')\n",
        "dias_desde_1_22_fechas = []\n",
        "for i in range(len(dias_desde_1_22)):\n",
        "    dias_desde_1_22_fechas.append((comienzo_date + datetime.timedelta(days=i)).strftime('%m/%d/%Y'))"
      ],
      "execution_count": null,
      "outputs": []
    },
    {
      "cell_type": "code",
      "metadata": {
        "id": "xlxg36jGbPgJ"
      },
      "source": [
        "# modificar ligeramente los datos para que se ajusten mejor al modelo (los modelos de regresión no pueden elegir el patrón)\n",
        "def muestreo(dias,casos):\n",
        "    X_train_confirmados, X_test_confirmados, y_train_confirmados, y_test_confirmados = train_test_split(dias, casos, test_size=0.30, shuffle=True, random_state = 42)\n",
        "\n",
        "    x_train = []\n",
        "    for i in X_train_confirmados:\n",
        "        x_train.append(i[0])\n",
        "    x_train_arr = np.sort(x_train)\n",
        "    x_train_arr = np.array(x_train_arr).reshape(-1,1)\n",
        "\n",
        "    x_test = []\n",
        "    for i in X_test_confirmados:\n",
        "        x_test.append(i[0])\n",
        "    x_test_arr = np.sort(x_test)\n",
        "    x_test_arr = np.array(x_test_arr).reshape(-1,1)\n",
        "\n",
        "    y_train = []\n",
        "    for i in x_train_arr:\n",
        "        y_train.append(int(casos[i][0]))\n",
        "    y_train_arr = np.array(y_train).reshape(-1,1)\n",
        "    \n",
        "\n",
        "    y_test = []\n",
        "    for i in x_test_arr:\n",
        "        y_test.append(int(casos[i][0]))\n",
        "    y_test_arr = np.array(y_test).reshape(-1,1)\n",
        "\n",
        "    return (x_train_arr,x_test_arr,y_train_arr,y_test_arr)\n",
        "    \n",
        "    \n",
        "x_train,x_test,y_train,y_test = muestreo(dias_desde_1_22,brasil_incremento_diario)"
      ],
      "execution_count": null,
      "outputs": []
    },
    {
      "cell_type": "markdown",
      "metadata": {
        "id": "glVmw0sRbSu5"
      },
      "source": [
        "Modelo para predecir el número de casos confirmados. Se usan la máquina de vectores de soporte(vsm), la cresta bayesiana y la regresión lineal en este ejemplo."
      ]
    },
    {
      "cell_type": "code",
      "metadata": {
        "id": "UCICTFjhbV9X"
      },
      "source": [
        "# # use this to find the optimal parameters for SVR\n",
        "# c = [0.01, 0.1, 1]\n",
        "# gamma = [0.01, 0.1, 1]\n",
        "# epsilon = [0.01, 0.1, 1]\n",
        "# shrinking = [True, False]\n",
        "\n",
        "# svm_grid = {'C': c, 'gamma' : gamma, 'epsilon': epsilon, 'shrinking' : shrinking}\n",
        "\n",
        "# svm = SVR(kernel='poly', degree=3)\n",
        "# svm_search = RandomizedSearchCV(svm, svm_grid, scoring='neg_mean_squared_error', cv=3, return_train_score=True, n_jobs=-1, n_iter=5, verbose=1)\n",
        "# svm_search.fit(x_train, y_train)\n"
      ],
      "execution_count": null,
      "outputs": []
    },
    {
      "cell_type": "code",
      "metadata": {
        "id": "cXengizNbW9x"
      },
      "source": [
        "# svm_search.best_params_"
      ],
      "execution_count": null,
      "outputs": []
    },
    {
      "cell_type": "code",
      "metadata": {
        "id": "2jfIhno-bZIC",
        "colab": {
          "base_uri": "https://localhost:8080/"
        },
        "outputId": "58c9eacc-01f8-4a54-91d9-b4a1e5864ddf"
      },
      "source": [
        "# svm_confirmados = svm_search.best_estimator_\n",
        "svm_confirmados = SVR(shrinking=True, kernel='poly',gamma=0.01, epsilon=1,degree=3, C=0.1)\n",
        "svm_confirmados.fit(x_train, y_train)\n",
        "svm_pred = svm_confirmados.predict(dias_desde_1_22)\n",
        "svm_test_pred = svm_confirmados.predict(x_test)\n",
        "y_svm_pred = svm_confirmados.predict(x_train)"
      ],
      "execution_count": null,
      "outputs": []
    },
    {
      "cell_type": "code",
      "execution_count": null,
      "metadata": {},
      "outputs": [],
      "source": [
        "#Grafico datos de entrenamiento para encontrar el modelo SVM\n",
        "plt.figure(12)\n",
        "plt.figure(figsize=(10,5))\n",
        "plt.scatter(x_train,y_train,label='train')\n",
        "plt.plot(x_train,y_svm_pred, label='ajuste', color='r', linewidth=3.0)\n",
        "plt.title('Encontrar modelo')\n",
        "plt.legend(['Datos de entrenamiento', 'Ajuste SVM'])\n",
        "plt.grid()"
      ]
    },
    {
      "cell_type": "code",
      "execution_count": null,
      "metadata": {},
      "outputs": [],
      "source": [
        "print(\"Coeficiente R^2 de entrenamiento SVM: %.2f\"\n",
        "      % r2_score(y_train, y_svm_pred))"
      ]
    },
    {
      "cell_type": "code",
      "metadata": {
        "colab": {
          "base_uri": "https://localhost:8080/",
          "height": 293
        },
        "id": "7rVPfIkDbblB",
        "outputId": "3caca433-c692-46e0-bb79-d641bfdafebb"
      },
      "source": [
        "#Grafico datos de prueba para encontrar el modelo SVM\n",
        "plt.figure(12)\n",
        "plt.figure(figsize=(10,5))\n",
        "plt.scatter(x_test,y_test,label='test')\n",
        "plt.plot(x_test,svm_test_pred, label='ajuste', color='r', linewidth=3.0)\n",
        "plt.title('Evaluación de modelo')\n",
        "plt.legend(['Datos de prueba', 'Ajuste SVM'])\n",
        "plt.grid()"
      ],
      "execution_count": null,
      "outputs": []
    },
    {
      "cell_type": "code",
      "metadata": {
        "id": "TyhaNJSzHwtF",
        "colab": {
          "base_uri": "https://localhost:8080/"
        },
        "outputId": "13ac8b73-349a-4241-df8d-6a9a6bc1064a"
      },
      "source": [
        "print(\"Coeficiente R^2 de prueba SVM: %.2f\"\n",
        "      % r2_score(y_test, svm_test_pred))"
      ],
      "execution_count": null,
      "outputs": []
    },
    {
      "cell_type": "code",
      "metadata": {
        "id": "eNblKfZqbduQ"
      },
      "source": [
        "# transformar nuestros datos para la regresión polinomial\n",
        "poly = PolynomialFeatures(degree=5)\n",
        "poly_X_train_confirmados = poly.fit_transform(x_train)\n",
        "poly_X_test_confirmados = poly.fit_transform(x_test)\n",
        "poly_dias_desde_1_22 = poly.fit_transform(dias_desde_1_22)\n",
        "\n",
        "bayesian_poly = PolynomialFeatures(degree=5)\n",
        "bayesian_poly_X_train_confirmados = bayesian_poly.fit_transform(x_train)\n",
        "bayesian_poly_X_test_confirmados = bayesian_poly.fit_transform(x_test)\n",
        "bayesian_poly_dias_desde_1_22 = bayesian_poly.fit_transform(dias_desde_1_22)"
      ],
      "execution_count": null,
      "outputs": []
    },
    {
      "cell_type": "code",
      "metadata": {
        "id": "7lgGqi0RbgCR"
      },
      "source": [
        "# regresión polinomial\n",
        "linear_model = LinearRegression(normalize=True, fit_intercept=False)\n",
        "linear_model.fit(poly_X_train_confirmados, y_train)\n",
        "test_linear_pred = linear_model.predict(poly_X_test_confirmados)\n",
        "linear_pred = linear_model.predict(poly_dias_desde_1_22)\n",
        "y_poly_pred = linear_model.predict(poly_X_train_confirmados)"
      ],
      "execution_count": null,
      "outputs": []
    },
    {
      "cell_type": "code",
      "metadata": {
        "id": "w75SnqoSbjRj",
        "colab": {
          "base_uri": "https://localhost:8080/"
        },
        "outputId": "b59d2082-4ae4-4e49-d734-f8f4f5bd5dca"
      },
      "source": [
        "print(linear_model.coef_)"
      ],
      "execution_count": null,
      "outputs": []
    },
    {
      "cell_type": "code",
      "execution_count": null,
      "metadata": {},
      "outputs": [],
      "source": [
        "#Grafico datos de entrenamiento para encontrar el modelo Polinomial\n",
        "plt.figure(12)\n",
        "plt.figure(figsize=(10,5))\n",
        "plt.scatter(x_train,y_train,label='train')\n",
        "plt.plot(x_train,y_poly_pred, label='ajuste', color='r', linewidth=3.0)\n",
        "plt.title('Lo que quieramo')\n",
        "plt.legend(['Datos de entrenamiento', 'Ajuste Polinomial'])\n",
        "plt.grid()"
      ]
    },
    {
      "cell_type": "code",
      "execution_count": null,
      "metadata": {},
      "outputs": [],
      "source": [
        "print(\"Coeficiente R^2 de entrenamiento polinomial: %.2f\"\n",
        "      % r2_score(y_train, y_poly_pred))"
      ]
    },
    {
      "cell_type": "code",
      "metadata": {
        "id": "M4l3Fft8blHG",
        "colab": {
          "base_uri": "https://localhost:8080/",
          "height": 293
        },
        "outputId": "fa11e9e8-64dd-4d30-acb6-26ec471660b1"
      },
      "source": [
        "# plt.plot(y_test)\n",
        "# plt.plot(test_linear_pred)\n",
        "# plt.legend(['Datos de prueba', 'Ajuste Polinomial'])\n",
        "#Grafico datos de entrenamiento para encontrar el modelo SVM\n",
        "plt.figure(12)\n",
        "plt.figure(figsize=(10,5))\n",
        "plt.scatter(x_test,y_test,label='test')\n",
        "plt.plot(x_test,test_linear_pred, label='ajuste', color='r', linewidth=3.0)\n",
        "plt.title('Evaluación de modelo')\n",
        "plt.legend(['Datos de prueba', 'Ajuste SVM'])\n",
        "plt.grid()"
      ],
      "execution_count": null,
      "outputs": []
    },
    {
      "cell_type": "code",
      "metadata": {
        "colab": {
          "base_uri": "https://localhost:8080/"
        },
        "id": "z90DNCip7eyO",
        "outputId": "31894ce9-a6c4-4961-f6b4-f7eb7e95da2b"
      },
      "source": [
        "print(\"Coeficiente R^2 de prueba polinomial: %.2f\"\n",
        "      % r2_score(y_test, test_linear_pred))"
      ],
      "execution_count": null,
      "outputs": []
    },
    {
      "cell_type": "code",
      "metadata": {
        "id": "TcPDw5Gmbnij",
        "colab": {
          "base_uri": "https://localhost:8080/"
        },
        "outputId": "cffdceba-1ab3-4d0c-ce3d-8c450147777b"
      },
      "source": [
        "# regresión polinomial de la cresta bayesiana\n",
        "tol = [1e-6, 1e-5, 1e-4, 1e-3, 1e-2]\n",
        "alpha_1 = [1e-7, 1e-6, 1e-5, 1e-4, 1e-3]\n",
        "alpha_2 = [1e-7, 1e-6, 1e-5, 1e-4, 1e-3]\n",
        "lambda_1 = [1e-7, 1e-6, 1e-5, 1e-4, 1e-3]\n",
        "lambda_2 = [1e-7, 1e-6, 1e-5, 1e-4, 1e-3]\n",
        "normalize = [True, False]\n",
        "\n",
        "bayesian_grid = {'tol': tol, 'alpha_1': alpha_1, 'alpha_2' : alpha_2, 'lambda_1': lambda_1, 'lambda_2' : lambda_2, 'normalize' : normalize}\n",
        "\n",
        "bayesian = BayesianRidge(fit_intercept=False)\n",
        "bayesian_search = RandomizedSearchCV(bayesian, bayesian_grid, scoring='neg_mean_squared_error', cv=3, return_train_score=True, n_jobs=-1, n_iter=40, verbose=1)\n",
        "bayesian_search.fit(bayesian_poly_X_train_confirmados, y_train)"
      ],
      "execution_count": null,
      "outputs": []
    },
    {
      "cell_type": "code",
      "metadata": {
        "id": "b8KMbmYvbxjD",
        "colab": {
          "base_uri": "https://localhost:8080/"
        },
        "outputId": "933262ec-e4df-4c93-95b6-cce4fc82dd06"
      },
      "source": [
        "bayesian_search.best_params_"
      ],
      "execution_count": null,
      "outputs": []
    },
    {
      "cell_type": "code",
      "metadata": {
        "id": "74yHb0fObyQL"
      },
      "source": [
        "bayesian_confirmados = bayesian_search.best_estimator_\n",
        "test_bayesian_pred = bayesian_confirmados.predict(bayesian_poly_X_test_confirmados)\n",
        "bayesian_pred = bayesian_confirmados.predict(bayesian_poly_dias_desde_1_22)\n",
        "y_bayesian_pred = bayesian_confirmados.predict(bayesian_poly_X_train_confirmados)\n"
      ],
      "execution_count": null,
      "outputs": []
    },
    {
      "cell_type": "code",
      "metadata": {
        "id": "PmWRy1Nvb4GT",
        "colab": {
          "base_uri": "https://localhost:8080/",
          "height": 293
        },
        "outputId": "1b5bfffd-12cc-4787-e61f-a86afefd5bb6"
      },
      "source": [
        "#Grafico datos de entrenamiento para encontrar el modelo Bayesiano\n",
        "plt.figure(12)\n",
        "plt.figure(figsize=(10,5))\n",
        "plt.scatter(x_train,y_train,label='train')\n",
        "plt.plot(x_train,y_bayesian_pred, label='ajuste', color='r', linewidth=3.0)\n",
        "plt.title('Encontrar el modelo')\n",
        "plt.legend(['Datos de entrenamiento', 'Ajuste Bayesiano'])\n",
        "plt.grid()"
      ],
      "execution_count": null,
      "outputs": []
    },
    {
      "cell_type": "code",
      "execution_count": null,
      "metadata": {},
      "outputs": [],
      "source": [
        "print(\"Coeficiente R^2 de entrenamiento Bayesiano: %.2f\"\n",
        "      % r2_score(y_train, y_bayesian_pred))"
      ]
    },
    {
      "cell_type": "code",
      "execution_count": null,
      "metadata": {},
      "outputs": [],
      "source": [
        "#Grafico datos de entrenamiento para encontrar el modelo Bayesiano\n",
        "plt.figure(12)\n",
        "plt.figure(figsize=(10,5))\n",
        "plt.scatter(x_test,y_test,label='test')\n",
        "plt.plot(x_test,test_bayesian_pred, label='ajuste', color='r', linewidth=3.0)\n",
        "plt.title('Evaluación de modelo Bayesiano')\n",
        "plt.legend(['Datos de prueba', 'Ajuste Bayesiano'])\n",
        "plt.grid()"
      ]
    },
    {
      "cell_type": "code",
      "metadata": {
        "colab": {
          "base_uri": "https://localhost:8080/"
        },
        "id": "dZDlPkrb7ycg",
        "outputId": "5d1e97cb-c65f-4261-b504-768b93490ec8"
      },
      "source": [
        "print(\"Coeficiente R^2 de prueba Bayesiana: %.2f\"\r\n",
        "      % r2_score(y_test, test_bayesian_pred))"
      ],
      "execution_count": null,
      "outputs": []
    },
    {
      "cell_type": "code",
      "execution_count": null,
      "metadata": {},
      "outputs": [],
      "source": [
        "brasil_lista = []\n",
        "for i in brasil_incremento_diario:\n",
        "    brasil_lista.append(i[0])\n",
        "max_value = np.max(brasil_lista)\n",
        "index = brasil_lista.index(np.max(brasil_lista))\n",
        "print(index)"
      ]
    }
  ]
}